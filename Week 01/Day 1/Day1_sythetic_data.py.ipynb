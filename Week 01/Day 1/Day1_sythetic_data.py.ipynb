{
 "cells": [
  {
   "cell_type": "code",
   "execution_count": null,
   "id": "547cd439",
   "metadata": {},
   "outputs": [],
   "source": [
    "import pandas as pd\n",
    "import numpy as np\n",
    "from faker import Faker\n",
    "import random\n",
    "\n",
    "# Faker setup\n",
    "fake = Faker()\n",
    "Faker.seed(42)\n",
    "np.random.seed(42)\n",
    "\n",
    "# Generate 50 fake e-commerce orders\n",
    "data = []\n",
    "for _ in range(50):\n",
    "    customer_id = random.choice([fake.random_int(min=1000, max=9999), None])  # Missing IDs\n",
    "    name = fake.name()\n",
    "    city = random.choice([fake.city().lower(), fake.city().upper(), fake.city()])  # Mixed casing\n",
    "    postal_code = random.choice([fake.postcode(), str(fake.random_int(100000, 999999)), float(fake.random_int(100000, 999999))])\n",
    "    order_date = random.choice([\n",
    "        fake.date_this_year().strftime(\"%Y-%m-%d\"),\n",
    "        fake.date_this_year().strftime(\"%d/%m/%Y\"),\n",
    "        fake.date_this_year().strftime(\"%m-%d-%Y\")\n",
    "    ])\n",
    "    quantity = random.choice([fake.random_int(min=1, max=5), -1 * fake.random_int(min=1, max=5)])  # Negative errors\n",
    "    price = f\"${fake.random_int(10, 200):,}\"  # Price with $ and commas\n",
    "    data.append([customer_id, name, city, postal_code, order_date, quantity, price])\n",
    "\n",
    "df = pd.DataFrame(data, columns=[\"customer_id\", \"name\", \"city\", \"postal_code\", \"order_date\", \"quantity\", \"price\"])\n",
    "\n",
    "# Add duplicates\n",
    "df = pd.concat([df, df.iloc[:5]], ignore_index=True)\n",
    "\n",
    "# Save raw data\n",
    "df.to_csv(\"day_01_raw_data.csv\", index=False)\n",
    "print(\"Raw dataset generated: day_01_raw_data.csv\")"
   ]
  }
 ],
 "metadata": {
  "kernelspec": {
   "display_name": "Python 3 (ipykernel)",
   "language": "python",
   "name": "python3"
  },
  "language_info": {
   "codemirror_mode": {
    "name": "ipython",
    "version": 3
   },
   "file_extension": ".py",
   "mimetype": "text/x-python",
   "name": "python",
   "nbconvert_exporter": "python",
   "pygments_lexer": "ipython3",
   "version": "3.11.4"
  }
 },
 "nbformat": 4,
 "nbformat_minor": 5
}
